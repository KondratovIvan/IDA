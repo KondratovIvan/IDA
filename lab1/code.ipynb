{
 "cells": [
  {
   "cell_type": "markdown",
   "id": "691ff3b7",
   "metadata": {},
   "source": [
    "### Лабораторна робота #1"
   ]
  },
  {
   "cell_type": "markdown",
   "id": "d0410c56",
   "metadata": {},
   "source": [
    "Імпорт необхідних бібліотек"
   ]
  },
  {
   "cell_type": "code",
   "execution_count": 53,
   "metadata": {},
   "outputs": [],
   "source": [
    "import matplotlib.pyplot \n",
    "import seaborn \n",
    "import pandas"
   ]
  },
  {
   "cell_type": "markdown",
   "id": "acf94377",
   "metadata": {},
   "source": [
    "Завантаження data-файлів в змінні"
   ]
  },
  {
   "cell_type": "code",
   "execution_count": 54,
   "id": "d764894d",
   "metadata": {},
   "outputs": [],
   "source": [
    "movies = pandas.read_csv('movies.dat', sep='::', engine='python', header=None, names=['MovieID', 'Title', 'Genres'], encoding='ISO-8859-1')\n",
    "ratings = pandas.read_csv(filepath_or_buffer='ratings.dat', sep='::', engine='python', header=None, names=['UserID', 'MovieID', 'Rating', 'Timestamp'])\n",
    "users = pandas.read_csv(filepath_or_buffer='users.dat', sep='::', engine='python', header=None, names=['UserID', 'Gender', 'Age', 'Occupation', 'Zip-code'])"
   ]
  },
  {
   "cell_type": "markdown",
   "id": "4199e379",
   "metadata": {},
   "source": [
    "Merge данних в єдиний dataframe"
   ]
  },
  {
   "cell_type": "code",
   "execution_count": 55,
   "id": "130b10d0",
   "metadata": {},
   "outputs": [
    {
     "data": {
      "text/html": [
       "<div>\n",
       "<style scoped>\n",
       "    .dataframe tbody tr th:only-of-type {\n",
       "        vertical-align: middle;\n",
       "    }\n",
       "\n",
       "    .dataframe tbody tr th {\n",
       "        vertical-align: top;\n",
       "    }\n",
       "\n",
       "    .dataframe thead th {\n",
       "        text-align: right;\n",
       "    }\n",
       "</style>\n",
       "<table border=\"1\" class=\"dataframe\">\n",
       "  <thead>\n",
       "    <tr style=\"text-align: right;\">\n",
       "      <th></th>\n",
       "      <th>UserID</th>\n",
       "      <th>MovieID</th>\n",
       "      <th>Rating</th>\n",
       "      <th>Timestamp</th>\n",
       "      <th>Gender</th>\n",
       "      <th>Age</th>\n",
       "      <th>Occupation</th>\n",
       "      <th>Zip-code</th>\n",
       "      <th>Title</th>\n",
       "      <th>Genres</th>\n",
       "    </tr>\n",
       "  </thead>\n",
       "  <tbody>\n",
       "    <tr>\n",
       "      <th>0</th>\n",
       "      <td>1</td>\n",
       "      <td>1193</td>\n",
       "      <td>5</td>\n",
       "      <td>978300760</td>\n",
       "      <td>F</td>\n",
       "      <td>1</td>\n",
       "      <td>10</td>\n",
       "      <td>48067</td>\n",
       "      <td>One Flew Over the Cuckoo's Nest (1975)</td>\n",
       "      <td>Drama</td>\n",
       "    </tr>\n",
       "    <tr>\n",
       "      <th>1</th>\n",
       "      <td>2</td>\n",
       "      <td>1193</td>\n",
       "      <td>5</td>\n",
       "      <td>978298413</td>\n",
       "      <td>M</td>\n",
       "      <td>56</td>\n",
       "      <td>16</td>\n",
       "      <td>70072</td>\n",
       "      <td>One Flew Over the Cuckoo's Nest (1975)</td>\n",
       "      <td>Drama</td>\n",
       "    </tr>\n",
       "    <tr>\n",
       "      <th>2</th>\n",
       "      <td>12</td>\n",
       "      <td>1193</td>\n",
       "      <td>4</td>\n",
       "      <td>978220179</td>\n",
       "      <td>M</td>\n",
       "      <td>25</td>\n",
       "      <td>12</td>\n",
       "      <td>32793</td>\n",
       "      <td>One Flew Over the Cuckoo's Nest (1975)</td>\n",
       "      <td>Drama</td>\n",
       "    </tr>\n",
       "    <tr>\n",
       "      <th>3</th>\n",
       "      <td>15</td>\n",
       "      <td>1193</td>\n",
       "      <td>4</td>\n",
       "      <td>978199279</td>\n",
       "      <td>M</td>\n",
       "      <td>25</td>\n",
       "      <td>7</td>\n",
       "      <td>22903</td>\n",
       "      <td>One Flew Over the Cuckoo's Nest (1975)</td>\n",
       "      <td>Drama</td>\n",
       "    </tr>\n",
       "    <tr>\n",
       "      <th>4</th>\n",
       "      <td>17</td>\n",
       "      <td>1193</td>\n",
       "      <td>5</td>\n",
       "      <td>978158471</td>\n",
       "      <td>M</td>\n",
       "      <td>50</td>\n",
       "      <td>1</td>\n",
       "      <td>95350</td>\n",
       "      <td>One Flew Over the Cuckoo's Nest (1975)</td>\n",
       "      <td>Drama</td>\n",
       "    </tr>\n",
       "    <tr>\n",
       "      <th>...</th>\n",
       "      <td>...</td>\n",
       "      <td>...</td>\n",
       "      <td>...</td>\n",
       "      <td>...</td>\n",
       "      <td>...</td>\n",
       "      <td>...</td>\n",
       "      <td>...</td>\n",
       "      <td>...</td>\n",
       "      <td>...</td>\n",
       "      <td>...</td>\n",
       "    </tr>\n",
       "    <tr>\n",
       "      <th>1000204</th>\n",
       "      <td>5949</td>\n",
       "      <td>2198</td>\n",
       "      <td>5</td>\n",
       "      <td>958846401</td>\n",
       "      <td>M</td>\n",
       "      <td>18</td>\n",
       "      <td>17</td>\n",
       "      <td>47901</td>\n",
       "      <td>Modulations (1998)</td>\n",
       "      <td>Documentary</td>\n",
       "    </tr>\n",
       "    <tr>\n",
       "      <th>1000205</th>\n",
       "      <td>5675</td>\n",
       "      <td>2703</td>\n",
       "      <td>3</td>\n",
       "      <td>976029116</td>\n",
       "      <td>M</td>\n",
       "      <td>35</td>\n",
       "      <td>14</td>\n",
       "      <td>30030</td>\n",
       "      <td>Broken Vessels (1998)</td>\n",
       "      <td>Drama</td>\n",
       "    </tr>\n",
       "    <tr>\n",
       "      <th>1000206</th>\n",
       "      <td>5780</td>\n",
       "      <td>2845</td>\n",
       "      <td>1</td>\n",
       "      <td>958153068</td>\n",
       "      <td>M</td>\n",
       "      <td>18</td>\n",
       "      <td>17</td>\n",
       "      <td>92886</td>\n",
       "      <td>White Boys (1999)</td>\n",
       "      <td>Drama</td>\n",
       "    </tr>\n",
       "    <tr>\n",
       "      <th>1000207</th>\n",
       "      <td>5851</td>\n",
       "      <td>3607</td>\n",
       "      <td>5</td>\n",
       "      <td>957756608</td>\n",
       "      <td>F</td>\n",
       "      <td>18</td>\n",
       "      <td>20</td>\n",
       "      <td>55410</td>\n",
       "      <td>One Little Indian (1973)</td>\n",
       "      <td>Comedy|Drama|Western</td>\n",
       "    </tr>\n",
       "    <tr>\n",
       "      <th>1000208</th>\n",
       "      <td>5938</td>\n",
       "      <td>2909</td>\n",
       "      <td>4</td>\n",
       "      <td>957273353</td>\n",
       "      <td>M</td>\n",
       "      <td>25</td>\n",
       "      <td>1</td>\n",
       "      <td>35401</td>\n",
       "      <td>Five Wives, Three Secretaries and Me (1998)</td>\n",
       "      <td>Documentary</td>\n",
       "    </tr>\n",
       "  </tbody>\n",
       "</table>\n",
       "<p>1000209 rows × 10 columns</p>\n",
       "</div>"
      ],
      "text/plain": [
       "         UserID  MovieID  Rating  Timestamp Gender  Age  Occupation Zip-code  \\\n",
       "0             1     1193       5  978300760      F    1          10    48067   \n",
       "1             2     1193       5  978298413      M   56          16    70072   \n",
       "2            12     1193       4  978220179      M   25          12    32793   \n",
       "3            15     1193       4  978199279      M   25           7    22903   \n",
       "4            17     1193       5  978158471      M   50           1    95350   \n",
       "...         ...      ...     ...        ...    ...  ...         ...      ...   \n",
       "1000204    5949     2198       5  958846401      M   18          17    47901   \n",
       "1000205    5675     2703       3  976029116      M   35          14    30030   \n",
       "1000206    5780     2845       1  958153068      M   18          17    92886   \n",
       "1000207    5851     3607       5  957756608      F   18          20    55410   \n",
       "1000208    5938     2909       4  957273353      M   25           1    35401   \n",
       "\n",
       "                                               Title                Genres  \n",
       "0             One Flew Over the Cuckoo's Nest (1975)                 Drama  \n",
       "1             One Flew Over the Cuckoo's Nest (1975)                 Drama  \n",
       "2             One Flew Over the Cuckoo's Nest (1975)                 Drama  \n",
       "3             One Flew Over the Cuckoo's Nest (1975)                 Drama  \n",
       "4             One Flew Over the Cuckoo's Nest (1975)                 Drama  \n",
       "...                                              ...                   ...  \n",
       "1000204                           Modulations (1998)           Documentary  \n",
       "1000205                        Broken Vessels (1998)                 Drama  \n",
       "1000206                            White Boys (1999)                 Drama  \n",
       "1000207                     One Little Indian (1973)  Comedy|Drama|Western  \n",
       "1000208  Five Wives, Three Secretaries and Me (1998)           Documentary  \n",
       "\n",
       "[1000209 rows x 10 columns]"
      ]
     },
     "execution_count": 55,
     "metadata": {},
     "output_type": "execute_result"
    }
   ],
   "source": [
    "mergedList = pandas.merge(pandas.merge(ratings, users, on='UserID'), movies, on='MovieID')\n",
    "\n",
    "mergedList"
   ]
  },
  {
   "cell_type": "markdown",
   "id": "09807a30",
   "metadata": {},
   "source": [
    "Вікові категорії користувачів"
   ]
  },
  {
   "cell_type": "code",
   "execution_count": 56,
   "id": "0f7475d1",
   "metadata": {},
   "outputs": [],
   "source": [
    "ageGroupList=[1,18,25,35,45,50,56]"
   ]
  },
  {
   "cell_type": "markdown",
   "id": "b458767e",
   "metadata": {},
   "source": [
    "Функція повертаюча топ 10 фільмів для вказаної вікової категорії за всіми віковими групами"
   ]
  },
  {
   "cell_type": "code",
   "execution_count": 57,
   "id": "1b01e510",
   "metadata": {},
   "outputs": [],
   "source": [
    "def RatingByAgeForGender(data, gender):\n",
    "    resultRating = {}\n",
    "\n",
    "    genderData = data[data['Gender'] == gender]\n",
    "\n",
    "    for index, ageGroup in enumerate(ageGroupList):\n",
    "\n",
    "        genderDataForAge = genderData[genderData[\"Age\"] == ageGroup]\n",
    "        ratingCount = genderDataForAge.groupby(['MovieID'])['Rating'].count()\n",
    "        filterMovieIds = ratingCount[ratingCount >= 20].index.tolist()\n",
    "        filterData = genderDataForAge[genderDataForAge['MovieID'].isin(filterMovieIds)]\n",
    "        rating = filterData.groupby(['Title'])['Rating'].mean().nlargest(10).reset_index()\n",
    "        \n",
    "        resultRating[f'{ageGroupList[index]}'] = rating\n",
    "    return resultRating"
   ]
  },
  {
   "cell_type": "markdown",
   "id": "7704dbf7",
   "metadata": {},
   "source": [
    "Виклик функції"
   ]
  },
  {
   "cell_type": "code",
   "execution_count": 58,
   "id": "2ef2be51",
   "metadata": {},
   "outputs": [
    {
     "data": {
      "text/plain": [
       "{'1':                               Title    Rating\n",
       " 0                 GoodFellas (1990)  4.863636\n",
       " 1             Apocalypse Now (1979)  4.727273\n",
       " 2            American Beauty (1999)  4.629032\n",
       " 3             Godfather, The (1972)  4.589744\n",
       " 4                 Annie Hall (1977)  4.571429\n",
       " 5  Shawshank Redemption, The (1994)  4.545455\n",
       " 6          Full Metal Jacket (1987)  4.523810\n",
       " 7   Ferris Bueller's Day Off (1986)  4.500000\n",
       " 8                Matrix, The (1999)  4.487805\n",
       " 9               Shining, The (1980)  4.476190,\n",
       " '18':                                                Title    Rating\n",
       " 0                         Usual Suspects, The (1995)  4.700658\n",
       " 1                   Shawshank Redemption, The (1994)  4.699708\n",
       " 2  Seven Samurai (The Magnificent Seven) (Shichin...  4.635135\n",
       " 3                              Godfather, The (1972)  4.570470\n",
       " 4                              Close Shave, A (1995)  4.550562\n",
       " 5                             American Beauty (1999)  4.540643\n",
       " 6                     Crimes and Misdemeanors (1989)  4.535714\n",
       " 7                                 Matrix, The (1999)  4.534676\n",
       " 8         Life Is Beautiful (La Vita è bella) (1997)  4.527607\n",
       " 9             One Flew Over the Cuckoo's Nest (1975)  4.526042,\n",
       " '25':                                                Title    Rating\n",
       " 0                     Raiders of the Lost Ark (1981)  4.625654\n",
       " 1                              Godfather, The (1972)  4.619266\n",
       " 2          Star Wars: Episode IV - A New Hope (1977)  4.614016\n",
       " 3                                     Sanjuro (1962)  4.600000\n",
       " 4                   Shawshank Redemption, The (1994)  4.581395\n",
       " 5                              Paths of Glory (1957)  4.580645\n",
       " 6                         Usual Suspects, The (1995)  4.565217\n",
       " 7  Seven Samurai (The Magnificent Seven) (Shichin...  4.559322\n",
       " 8                                 Rear Window (1954)  4.525735\n",
       " 9                            Double Indemnity (1944)  4.504132,\n",
       " '35':                                                Title    Rating\n",
       " 0                            Jean de Florette (1986)  4.619048\n",
       " 1                              Godfather, The (1972)  4.607843\n",
       " 2      Sunset Blvd. (a.k.a. Sunset Boulevard) (1950)  4.597826\n",
       " 3                                 City Lights (1931)  4.586957\n",
       " 4                       To Kill a Mockingbird (1962)  4.586957\n",
       " 5  Seven Samurai (The Magnificent Seven) (Shichin...  4.556452\n",
       " 6                       Palm Beach Story, The (1942)  4.550000\n",
       " 7                       It's a Wonderful Life (1946)  4.548673\n",
       " 8     Manon of the Spring (Manon des sources) (1986)  4.538462\n",
       " 9                   Shawshank Redemption, The (1994)  4.533808,\n",
       " '45':                                                Title    Rating\n",
       " 0                              Paths of Glory (1957)  4.625000\n",
       " 1                         Wrong Trousers, The (1993)  4.611111\n",
       " 2  Wallace & Gromit: The Best of Aardman Animatio...  4.571429\n",
       " 3                                  Casablanca (1942)  4.555556\n",
       " 4                            Schindler's List (1993)  4.535211\n",
       " 5                          Lawrence of Arabia (1962)  4.534247\n",
       " 6  Seven Samurai (The Magnificent Seven) (Shichin...  4.528302\n",
       " 7                       To Kill a Mockingbird (1962)  4.507692\n",
       " 8                     Raiders of the Lost Ark (1981)  4.503356\n",
       " 9                                   Chinatown (1974)  4.495327,\n",
       " '50':                                                Title    Rating\n",
       " 0                                     Yojimbo (1961)  4.739130\n",
       " 1                         Wrong Trousers, The (1993)  4.694444\n",
       " 2  Seven Samurai (The Magnificent Seven) (Shichin...  4.673077\n",
       " 3                              Close Shave, A (1995)  4.619048\n",
       " 4                         Maltese Falcon, The (1941)  4.604651\n",
       " 5                               Almost Famous (2000)  4.578947\n",
       " 6                            Double Indemnity (1944)  4.560976\n",
       " 7      Sunset Blvd. (a.k.a. Sunset Boulevard) (1950)  4.555556\n",
       " 8                                  Casablanca (1942)  4.547826\n",
       " 9                              Godfather, The (1972)  4.544218,\n",
       " '56':                                                Title    Rating\n",
       " 0                                  Casablanca (1942)  4.602564\n",
       " 1  Seven Samurai (The Magnificent Seven) (Shichin...  4.600000\n",
       " 2                            Schindler's List (1993)  4.578947\n",
       " 3                         Saving Private Ryan (1998)  4.561798\n",
       " 4                        Grapes of Wrath, The (1940)  4.560976\n",
       " 5                              Godfather, The (1972)  4.560440\n",
       " 6           Treasure of the Sierra Madre, The (1948)  4.555556\n",
       " 7                              Paths of Glory (1957)  4.550000\n",
       " 8                                      Gandhi (1982)  4.545455\n",
       " 9                           Wizard of Oz, The (1939)  4.545455}"
      ]
     },
     "execution_count": 58,
     "metadata": {},
     "output_type": "execute_result"
    }
   ],
   "source": [
    "genderAgeRating = RatingByAgeForGender(mergedList, 'M')\n",
    "genderAgeRating"
   ]
  },
  {
   "cell_type": "markdown",
   "id": "5940031c",
   "metadata": {},
   "source": [
    "Візуалізація рейтингу"
   ]
  },
  {
   "cell_type": "code",
   "execution_count": 59,
   "id": "2c98ae36",
   "metadata": {},
   "outputs": [
    {
     "data": {
      "image/png": "[encoded data removed]",
      "text/plain": [
       "<Figure size 640x480 with 1 Axes>"
      ]
     },
     "metadata": {},
     "output_type": "display_data"
    }
   ],
   "source": [
    "matplotlib.pyplot.figure()\n",
    "seaborn.barplot(data=genderAgeRating['1'], x='Rating', y='Title', orient='h')\n",
    "matplotlib.pyplot.xlabel('Rating')\n",
    "matplotlib.pyplot.ylabel('Movie')\n",
    "matplotlib.pyplot.title('Top 10 movies by male rating of 18 (18 - 24) age category')\n",
    "matplotlib.pyplot.show()"
   ]
  }
 ],
 "metadata": {
  "kernelspec": {
   "display_name": "testenv",
   "language": "python",
   "name": "python3"
  },
  "language_info": {
   "codemirror_mode": {
    "name": "ipython",
    "version": 3
   },
   "file_extension": ".py",
   "mimetype": "text/x-python",
   "name": "python",
   "nbconvert_exporter": "python",
   "pygments_lexer": "ipython3",
   "version": "3.10.13"
  }
 },
 "nbformat": 4,
 "nbformat_minor": 5
}
